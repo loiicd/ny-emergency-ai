{
 "cells": [
  {
   "cell_type": "markdown",
   "metadata": {},
   "source": [
    "### Variables"
   ]
  },
  {
   "cell_type": "code",
   "execution_count": 21,
   "metadata": {},
   "outputs": [],
   "source": [
    "SHOW_BOROUGHS_BOUNDARIES = False\n",
    "SHOW_COMMUNITY_DISTRICT_BOUNDARIES = True\n",
    "SHOW_FIRE_BATALLIONS = False\n",
    "SHOW_FIREHOUSES = True"
   ]
  },
  {
   "cell_type": "markdown",
   "metadata": {},
   "source": [
    "### Create Map"
   ]
  },
  {
   "cell_type": "code",
   "execution_count": 22,
   "metadata": {},
   "outputs": [],
   "source": [
    "import folium\n",
    "\n",
    "map = folium.Map(location=[40.71552394800378, -74.01878975440212], zoom_start=11, tiles='CartoDB positron')"
   ]
  },
  {
   "cell_type": "markdown",
   "metadata": {},
   "source": [
    "### Read Incidents Json"
   ]
  },
  {
   "cell_type": "code",
   "execution_count": 23,
   "metadata": {},
   "outputs": [],
   "source": [
    "import pandas as pd\n",
    "\n",
    "incidents = pd.read_json('/Users/loic.doerr/dev/ny-emergency-ai/data/fire-incidents/interims.json')"
   ]
  },
  {
   "cell_type": "markdown",
   "metadata": {},
   "source": [
    "### Read Boroughs Json"
   ]
  },
  {
   "cell_type": "code",
   "execution_count": 24,
   "metadata": {},
   "outputs": [],
   "source": [
    "import json\n",
    "\n",
    "with open('../data/geo-data/boroughs.geojson') as rawData:\n",
    "  boroughs_boundaries_geo = json.load(rawData)"
   ]
  },
  {
   "cell_type": "markdown",
   "metadata": {},
   "source": [
    "### Draw Borough Boundaries"
   ]
  },
  {
   "cell_type": "code",
   "execution_count": 25,
   "metadata": {},
   "outputs": [],
   "source": [
    "if SHOW_BOROUGHS_BOUNDARIES:\n",
    "  folium.GeoJson(\n",
    "    boroughs_boundaries_geo,\n",
    "    style_function=lambda feature: {\n",
    "      'fillColor': 'green' if feature['properties']['boro_name'] == 'Manhattan' else 'blue' if feature['properties']['boro_name'] == 'Brooklyn' else 'red' if feature['properties']['boro_name'] == 'Bronx' else 'orange' if feature['properties']['boro_name'] == 'Queens' else 'purple',\n",
    "      'color': 'black',\n",
    "      'weight': 2,\n",
    "      'fillOpacity': 0.2,\n",
    "    }\n",
    "  ).add_to(map)"
   ]
  },
  {
   "cell_type": "markdown",
   "metadata": {},
   "source": [
    "### Read Community Districts Json"
   ]
  },
  {
   "cell_type": "code",
   "execution_count": 26,
   "metadata": {},
   "outputs": [],
   "source": [
    "with open('/Users/loic.doerr/dev/ny-emergency-ai/data/geo-data/community-districts.geojson') as rawData:\n",
    "  community_districts_geo = json.load(rawData)"
   ]
  },
  {
   "cell_type": "markdown",
   "metadata": {},
   "source": [
    "### Calculate Incident Denisty"
   ]
  },
  {
   "cell_type": "code",
   "execution_count": 27,
   "metadata": {},
   "outputs": [],
   "source": [
    "incident_density = incidents['communitydistrict'].value_counts(normalize=True)\n",
    "\n",
    "max_density = incident_density.max()"
   ]
  },
  {
   "cell_type": "markdown",
   "metadata": {},
   "source": [
    "### Draw Community Districts Boundaries"
   ]
  },
  {
   "cell_type": "code",
   "execution_count": 28,
   "metadata": {},
   "outputs": [],
   "source": [
    "if SHOW_COMMUNITY_DISTRICT_BOUNDARIES:\n",
    "  color_map = folium.LinearColormap(['green', 'red'], vmin=0, vmax=max_density)\n",
    "\n",
    "  def calculate_opacity(feature):\n",
    "    district_id = int(feature['properties']['boro_cd'])\n",
    "    density = incident_density.get(district_id, 0)\n",
    "    opacity = density / max_density\n",
    "    return {'fillColor': color_map(opacity), 'color': 'black', 'weight': 2, 'fillOpacity': opacity}\n",
    "\n",
    "\n",
    "  folium.GeoJson(\n",
    "    community_districts_geo,\n",
    "    style_function=calculate_opacity\n",
    "  ).add_to(map)"
   ]
  },
  {
   "cell_type": "markdown",
   "metadata": {},
   "source": [
    "### Read Fire Battalions Json"
   ]
  },
  {
   "cell_type": "code",
   "execution_count": 29,
   "metadata": {},
   "outputs": [],
   "source": [
    "with open('../data/geo-data/fire-battalions.geojson') as rawData:\n",
    "  fire_battalions = json.load(rawData)"
   ]
  },
  {
   "cell_type": "markdown",
   "metadata": {},
   "source": [
    "### Draw Fire Battalions"
   ]
  },
  {
   "cell_type": "code",
   "execution_count": 30,
   "metadata": {},
   "outputs": [],
   "source": [
    "if SHOW_FIRE_BATALLIONS:\n",
    "  folium.GeoJson(fire_battalions, style_function=lambda function: {'fillColor': None, 'color': 'red', 'weight': 2, 'fillOpacity': 0}).add_to(map)"
   ]
  },
  {
   "cell_type": "markdown",
   "metadata": {},
   "source": [
    "### Draw Firehouse Markers"
   ]
  },
  {
   "cell_type": "code",
   "execution_count": 31,
   "metadata": {},
   "outputs": [],
   "source": [
    "if SHOW_FIREHOUSES:\n",
    "  locations = pd.read_csv('/Users/loic.doerr/dev/ny-emergency-ai/data/locations/FDNY_Firehouse_Listing_20240603.csv')\n",
    "  for index, location in locations.iterrows():\n",
    "    lat = location['Latitude']\n",
    "    lng = location['Longitude']\n",
    "    folium.Marker([lat, lng], popup=location['FacilityAddress']).add_to(map)"
   ]
  },
  {
   "cell_type": "markdown",
   "metadata": {},
   "source": [
    "### Save Map"
   ]
  },
  {
   "cell_type": "code",
   "execution_count": 32,
   "metadata": {},
   "outputs": [],
   "source": [
    "map.save('../maps/districts.html')"
   ]
  }
 ],
 "metadata": {
  "kernelspec": {
   "display_name": "Python 3",
   "language": "python",
   "name": "python3"
  },
  "language_info": {
   "codemirror_mode": {
    "name": "ipython",
    "version": 3
   },
   "file_extension": ".py",
   "mimetype": "text/x-python",
   "name": "python",
   "nbconvert_exporter": "python",
   "pygments_lexer": "ipython3",
   "version": "3.11.8"
  }
 },
 "nbformat": 4,
 "nbformat_minor": 2
}
