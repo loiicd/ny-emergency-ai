{
 "cells": [
  {
   "cell_type": "code",
   "execution_count": 36,
   "metadata": {},
   "outputs": [],
   "source": [
    "TARGET_FEATURE = 'incident_response_seconds_qy'"
   ]
  },
  {
   "cell_type": "code",
   "execution_count": 37,
   "metadata": {},
   "outputs": [],
   "source": [
    "import pandas as pd\n",
    "\n",
    "pd.set_option('display.max_rows', None)\n",
    "\n",
    "df = pd.read_json('/Users/loic.doerr/dev/ny-emergency-ai/data/fire-incidents/interims.json')\n",
    "df.dropna(inplace=True)"
   ]
  },
  {
   "cell_type": "code",
   "execution_count": 38,
   "metadata": {},
   "outputs": [],
   "source": [
    "df = df.head(10)"
   ]
  },
  {
   "cell_type": "code",
   "execution_count": 39,
   "metadata": {},
   "outputs": [],
   "source": [
    "df['dispatch_response_seconds_qy'] = pd.to_numeric(df['dispatch_response_seconds_qy'])\n",
    "\n",
    "df = pd.get_dummies(df)"
   ]
  },
  {
   "cell_type": "code",
   "execution_count": 40,
   "metadata": {},
   "outputs": [
    {
     "name": "stdout",
     "output_type": "stream",
     "text": [
      "incident_response_seconds_qy                                      1.000000\n",
      "incident_travel_tm_seconds_qy                                     0.995315\n",
      "alarm_box_location_5 AVE & 112 ST                                 0.883204\n",
      "first_activation_datetime_2021-01-04T00:03:00.000                 0.883204\n",
      "first_on_scene_datetime_2021-01-04T00:17:00.000                   0.883204\n",
      "first_assignment_datetime_2021-01-04T00:03:00.000                 0.883204\n",
      "starfire_incident_id_2100413490110006                             0.883204\n",
      "incident_close_datetime_2021-01-04T00:18:00.000                   0.662028\n",
      "incident_datetime_2021-01-04T00:02:00.000                         0.633266\n",
      "alarm_box_borough_MANHATTAN                                       0.633266\n",
      "incident_borough_MANHATTAN                                        0.633266\n",
      "incident_classification_Medical - Breathing / Ill or Sick         0.432721\n",
      "congressionaldistrict                                             0.301519\n",
      "incident_close_datetime_2021-01-04T00:58:00.000                   0.236266\n",
      "first_activation_datetime_2021-01-04T00:23:00.000                 0.236266\n",
      "alarm_box_location_MORRIS AVE & 183 ST                            0.236266\n",
      "starfire_incident_id_2100431940120015                             0.236266\n",
      "first_on_scene_datetime_2021-01-04T00:31:00.000                   0.236266\n",
      "dispatch_response_seconds_qy                                      0.233716\n",
      "incident_classification_group_Medical Emergencies                 0.208376\n",
      "alarm_source_description_tx_PD Link/Medical                       0.128912\n",
      "incident_datetime_2021-01-04T00:23:00.000                         0.081784\n",
      "first_assignment_datetime_2021-01-04T00:23:00.000                 0.081784\n",
      "alarm_source_description_tx_EMS Link/Medical                      0.074332\n",
      "incident_borough_BRONX                                            0.045954\n",
      "alarm_box_borough_BRONX                                           0.045954\n",
      "alarm_box_location_ALMEDA AVE & B63 ST                           -0.000500\n",
      "starfire_incident_id_2100412610150005                            -0.000500\n",
      "first_activation_datetime_2021-01-04T00:07:00.000                -0.000500\n",
      "incident_datetime_2021-01-04T00:06:00.000                        -0.000500\n",
      "incident_datetime_2021-01-04T00:20:00.000                        -0.038850\n",
      "incident_close_datetime_2021-01-04T00:46:00.000                  -0.038850\n",
      "first_on_scene_datetime_2021-01-04T00:25:00.000                  -0.038850\n",
      "alarm_box_location_HAVEMEYER AVE & CAESAR PL                     -0.038850\n",
      "first_assignment_datetime_2021-01-04T00:21:00.000                -0.038850\n",
      "incident_classification_Multiple Dwelling 'A' - Compactor fire   -0.038850\n",
      "starfire_incident_id_2100426590120013                            -0.038850\n",
      "incident_classification_group_Structural Fires                   -0.038850\n",
      "first_activation_datetime_2021-01-04T00:21:00.000                -0.038850\n",
      "starfire_incident_id_2100416590110004                            -0.038850\n",
      "incident_classification_Medical - Serious Life Threatening       -0.038850\n",
      "first_on_scene_datetime_2021-01-04T00:07:00.000                  -0.038850\n",
      "alarm_box_location_BROADWAY & 153 ST                             -0.038850\n",
      "first_assignment_datetime_2021-01-04T00:02:00.000                -0.038850\n",
      "incident_close_datetime_2021-01-04T00:31:00.000                  -0.038850\n",
      "first_assignment_datetime_2021-01-04T00:07:00.000                -0.043268\n",
      "first_on_scene_datetime_2021-01-04T00:12:00.000                  -0.043268\n",
      "incident_borough_QUEENS                                          -0.043268\n",
      "alarm_box_borough_QUEENS                                         -0.043268\n",
      "starfire_incident_id_2100479410150006                            -0.057191\n",
      "alarm_box_location_B'WAY & BAXTER AVE                            -0.057191\n",
      "incident_close_datetime_2021-01-04T00:42:00.000                  -0.057191\n",
      "first_activation_datetime_2021-01-04T00:08:00.000                -0.057191\n",
      "incident_datetime_2021-01-04T00:07:00.000                        -0.057191\n",
      "incident_classification_group_NonMedical Emergencies             -0.057191\n",
      "incident_classification_Utility Emergency - Gas                  -0.057191\n",
      "alarm_box_number                                                 -0.058415\n",
      "other_units_assigned_quantity                                    -0.072030\n",
      "engines_assigned_quantity                                        -0.118544\n",
      "starfire_incident_id_2100423090120016                            -0.127220\n",
      "incident_close_datetime_2021-01-04T01:26:00.000                  -0.127220\n",
      "first_activation_datetime_2021-01-04T00:24:00.000                -0.127220\n",
      "alarm_box_location_PARK AVE & 158 ST                             -0.127220\n",
      "first_on_scene_datetime_2021-01-04T00:28:00.000                  -0.127220\n",
      "ladders_assigned_quantity                                        -0.154178\n",
      "alarm_source_description_tx_Phone                                -0.208376\n",
      "incident_classification_group_NonStructural Fires                -0.222260\n",
      "incident_classification_Automobile Fire                          -0.222260\n",
      "first_activation_datetime_2021-01-04T00:16:00.000                -0.222260\n",
      "incident_close_datetime_2021-01-04T00:45:00.000                  -0.222260\n",
      "first_assignment_datetime_2021-01-04T00:15:00.000                -0.222260\n",
      "alarm_box_location_NEW JERSEY AVE & FULTON ST                    -0.222260\n",
      "first_on_scene_datetime_2021-01-04T00:18:00.000                  -0.222260\n",
      "starfire_incident_id_2100417350140004                            -0.222260\n",
      "incident_datetime_2021-01-04T00:15:00.000                        -0.222260\n",
      "first_activation_datetime_2021-01-04T00:02:00.000                -0.243352\n",
      "incident_classification_Medical - No PT Contact EMS is Onscene   -0.262110\n",
      "starfire_incident_id_2100433250140001                            -0.285620\n",
      "incident_datetime_2021-01-04T00:01:00.000                        -0.285620\n",
      "incident_close_datetime_2021-01-04T00:32:00.000                  -0.285620\n",
      "alarm_box_location_AVENUE O & E 13 ST                            -0.285620\n",
      "first_assignment_datetime_2021-01-04T00:01:00.000                -0.285620\n",
      "first_on_scene_datetime_2021-01-04T00:04:00.000                  -0.285620\n",
      "first_activation_datetime_2021-01-04T00:11:00.000                -0.348980\n",
      "first_on_scene_datetime_2021-01-04T00:13:00.000                  -0.348980\n",
      "alarm_box_location_BAY & BROAD STS                               -0.348980\n",
      "incident_close_datetime_2021-01-04T00:16:00.000                  -0.348980\n",
      "starfire_incident_id_2100402410130006                            -0.348980\n",
      "incident_borough_RICHMOND / STATEN ISLAND                        -0.348980\n",
      "first_assignment_datetime_2021-01-04T00:11:00.000                -0.348980\n",
      "incident_datetime_2021-01-04T00:10:00.000                        -0.348980\n",
      "alarm_box_borough_RICHMOND / STATEN ISLAND                       -0.348980\n",
      "alarm_box_borough_BROOKLYN                                       -0.380910\n",
      "incident_borough_BROOKLYN                                        -0.380910\n",
      "zipcode                                                          -0.397276\n",
      "policeprecinct                                                   -0.530922\n",
      "communitydistrict                                                -0.590085\n",
      "communityschooldistrict                                          -0.598545\n",
      "citycouncildistrict                                              -0.670394\n",
      "alarm_level_index_description_Initial Alarm                            NaN\n",
      "highest_alarm_level_First Alarm                                        NaN\n",
      "valid_dispatch_rspns_time_indc_N                                       NaN\n",
      "valid_incident_rspns_time_indc_Y                                       NaN\n",
      "Name: incident_response_seconds_qy, dtype: float64\n"
     ]
    }
   ],
   "source": [
    "correlation = df.corr()\n",
    "correlation_target = correlation[TARGET_FEATURE]\n",
    "correlation_target_sorted = correlation_target.sort_values(ascending=False)\n",
    "\n",
    "print(correlation_target_sorted)"
   ]
  }
 ],
 "metadata": {
  "kernelspec": {
   "display_name": "Python 3",
   "language": "python",
   "name": "python3"
  },
  "language_info": {
   "codemirror_mode": {
    "name": "ipython",
    "version": 3
   },
   "file_extension": ".py",
   "mimetype": "text/x-python",
   "name": "python",
   "nbconvert_exporter": "python",
   "pygments_lexer": "ipython3",
   "version": "3.11.8"
  }
 },
 "nbformat": 4,
 "nbformat_minor": 2
}
