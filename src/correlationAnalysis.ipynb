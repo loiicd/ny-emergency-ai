{
 "cells": [
  {
   "cell_type": "code",
   "execution_count": 46,
   "metadata": {},
   "outputs": [],
   "source": [
    "TARGET_FEATURE = 'other_units_assigned_quantity'"
   ]
  },
  {
   "cell_type": "code",
   "execution_count": 47,
   "metadata": {},
   "outputs": [],
   "source": [
    "import pandas as pd\n",
    "\n",
    "pd.set_option('display.max_rows', None)\n",
    "\n",
    "df = pd.read_json('/Users/loic.doerr/dev/ny-emergency-ai/data/fire-incidents/interims.json')\n",
    "df.dropna(inplace=True)"
   ]
  },
  {
   "cell_type": "code",
   "execution_count": 48,
   "metadata": {},
   "outputs": [],
   "source": [
    "df = df.head(10)"
   ]
  },
  {
   "cell_type": "code",
   "execution_count": 49,
   "metadata": {},
   "outputs": [],
   "source": [
    "df['dispatch_response_seconds_qy'] = pd.to_numeric(df['dispatch_response_seconds_qy'])\n",
    "\n",
    "df = pd.get_dummies(df)"
   ]
  },
  {
   "cell_type": "code",
   "execution_count": 51,
   "metadata": {},
   "outputs": [
    {
     "name": "stdout",
     "output_type": "stream",
     "text": [
      "other_units_assigned_quantity                                     1.000000\n",
      "ladders_assigned_quantity                                         0.834058\n",
      "engines_assigned_quantity                                         0.781929\n",
      "alarm_source_description_tx_Phone                                 0.763763\n",
      "incident_classification_group_Structural Fires                    0.666667\n",
      "starfire_incident_id_2100479410150006                             0.666667\n",
      "alarm_box_location_B'WAY & BAXTER AVE                             0.666667\n",
      "alarm_box_location_HAVEMEYER AVE & CAESAR PL                      0.666667\n",
      "starfire_incident_id_2100426590120013                             0.666667\n",
      "incident_classification_Multiple Dwelling 'A' - Compactor fire    0.666667\n",
      "incident_classification_Utility Emergency - Gas                   0.666667\n",
      "incident_classification_group_NonMedical Emergencies              0.666667\n",
      "incident_datetime_2021-01-04T00:20:00.000                         0.666667\n",
      "incident_datetime_2021-01-04T00:07:00.000                         0.666667\n",
      "first_assignment_datetime_2021-01-04T00:21:00.000                 0.666667\n",
      "first_activation_datetime_2021-01-04T00:08:00.000                 0.666667\n",
      "first_activation_datetime_2021-01-04T00:21:00.000                 0.666667\n",
      "incident_close_datetime_2021-01-04T00:42:00.000                   0.666667\n",
      "incident_close_datetime_2021-01-04T00:46:00.000                   0.666667\n",
      "first_on_scene_datetime_2021-01-04T00:25:00.000                   0.666667\n",
      "dispatch_response_seconds_qy                                      0.560449\n",
      "alarm_box_number                                                  0.447214\n",
      "first_assignment_datetime_2021-01-04T00:07:00.000                 0.375000\n",
      "first_on_scene_datetime_2021-01-04T00:12:00.000                   0.375000\n",
      "alarm_box_borough_QUEENS                                          0.375000\n",
      "incident_borough_QUEENS                                           0.375000\n",
      "zipcode                                                           0.298142\n",
      "incident_borough_BRONX                                            0.218218\n",
      "alarm_box_borough_BRONX                                           0.218218\n",
      "communitydistrict                                                 0.149071\n",
      "policeprecinct                                                    0.149071\n",
      "communityschooldistrict                                           0.074536\n",
      "incident_response_seconds_qy                                      0.037689\n",
      "congressionaldistrict                                             0.000000\n",
      "incident_travel_tm_seconds_qy                                     0.000000\n",
      "citycouncildistrict                                               0.000000\n",
      "first_assignment_datetime_2021-01-04T00:15:00.000                -0.166667\n",
      "first_activation_datetime_2021-01-04T00:23:00.000                -0.166667\n",
      "first_activation_datetime_2021-01-04T00:03:00.000                -0.166667\n",
      "first_activation_datetime_2021-01-04T00:07:00.000                -0.166667\n",
      "first_assignment_datetime_2021-01-04T00:11:00.000                -0.166667\n",
      "starfire_incident_id_2100402410130006                            -0.166667\n",
      "first_activation_datetime_2021-01-04T00:11:00.000                -0.166667\n",
      "first_activation_datetime_2021-01-04T00:16:00.000                -0.166667\n",
      "first_assignment_datetime_2021-01-04T00:03:00.000                -0.166667\n",
      "first_assignment_datetime_2021-01-04T00:02:00.000                -0.166667\n",
      "incident_datetime_2021-01-04T00:06:00.000                        -0.166667\n",
      "incident_close_datetime_2021-01-04T00:16:00.000                  -0.166667\n",
      "first_activation_datetime_2021-01-04T00:24:00.000                -0.166667\n",
      "starfire_incident_id_2100412610150005                            -0.166667\n",
      "incident_close_datetime_2021-01-04T00:31:00.000                  -0.166667\n",
      "incident_close_datetime_2021-01-04T00:32:00.000                  -0.166667\n",
      "incident_close_datetime_2021-01-04T00:45:00.000                  -0.166667\n",
      "incident_close_datetime_2021-01-04T00:58:00.000                  -0.166667\n",
      "incident_close_datetime_2021-01-04T01:26:00.000                  -0.166667\n",
      "first_on_scene_datetime_2021-01-04T00:04:00.000                  -0.166667\n",
      "first_on_scene_datetime_2021-01-04T00:07:00.000                  -0.166667\n",
      "first_on_scene_datetime_2021-01-04T00:13:00.000                  -0.166667\n",
      "first_on_scene_datetime_2021-01-04T00:17:00.000                  -0.166667\n",
      "first_on_scene_datetime_2021-01-04T00:18:00.000                  -0.166667\n",
      "first_on_scene_datetime_2021-01-04T00:28:00.000                  -0.166667\n",
      "first_assignment_datetime_2021-01-04T00:01:00.000                -0.166667\n",
      "incident_classification_group_NonStructural Fires                -0.166667\n",
      "incident_datetime_2021-01-04T00:10:00.000                        -0.166667\n",
      "alarm_box_location_PARK AVE & 158 ST                             -0.166667\n",
      "incident_datetime_2021-01-04T00:15:00.000                        -0.166667\n",
      "incident_datetime_2021-01-04T00:01:00.000                        -0.166667\n",
      "alarm_box_borough_RICHMOND / STATEN ISLAND                       -0.166667\n",
      "alarm_box_location_5 AVE & 112 ST                                -0.166667\n",
      "alarm_box_location_ALMEDA AVE & B63 ST                           -0.166667\n",
      "alarm_box_location_AVENUE O & E 13 ST                            -0.166667\n",
      "starfire_incident_id_2100433250140001                            -0.166667\n",
      "alarm_box_location_BAY & BROAD STS                               -0.166667\n",
      "alarm_box_location_BROADWAY & 153 ST                             -0.166667\n",
      "starfire_incident_id_2100431940120015                            -0.166667\n",
      "alarm_box_location_MORRIS AVE & 183 ST                           -0.166667\n",
      "starfire_incident_id_2100413490110006                            -0.166667\n",
      "alarm_box_location_NEW JERSEY AVE & FULTON ST                    -0.166667\n",
      "first_on_scene_datetime_2021-01-04T00:31:00.000                  -0.166667\n",
      "incident_classification_Medical - Serious Life Threatening       -0.166667\n",
      "incident_borough_RICHMOND / STATEN ISLAND                        -0.166667\n",
      "starfire_incident_id_2100423090120016                            -0.166667\n",
      "incident_classification_Automobile Fire                          -0.166667\n",
      "starfire_incident_id_2100416590110004                            -0.166667\n",
      "starfire_incident_id_2100417350140004                            -0.166667\n",
      "incident_datetime_2021-01-04T00:02:00.000                        -0.250000\n",
      "incident_datetime_2021-01-04T00:23:00.000                        -0.250000\n",
      "alarm_box_borough_BROOKLYN                                       -0.250000\n",
      "alarm_box_borough_MANHATTAN                                      -0.250000\n",
      "incident_borough_MANHATTAN                                       -0.250000\n",
      "incident_classification_Medical - No PT Contact EMS is Onscene   -0.250000\n",
      "incident_borough_BROOKLYN                                        -0.250000\n",
      "first_assignment_datetime_2021-01-04T00:23:00.000                -0.250000\n",
      "first_activation_datetime_2021-01-04T00:02:00.000                -0.250000\n",
      "incident_close_datetime_2021-01-04T00:18:00.000                  -0.250000\n",
      "alarm_source_description_tx_PD Link/Medical                      -0.327327\n",
      "alarm_source_description_tx_EMS Link/Medical                     -0.408248\n",
      "incident_classification_Medical - Breathing / Ill or Sick        -0.408248\n",
      "incident_classification_group_Medical Emergencies                -0.763763\n",
      "alarm_level_index_description_Initial Alarm                            NaN\n",
      "highest_alarm_level_First Alarm                                        NaN\n",
      "valid_dispatch_rspns_time_indc_N                                       NaN\n",
      "valid_incident_rspns_time_indc_Y                                       NaN\n",
      "Name: other_units_assigned_quantity, dtype: float64\n"
     ]
    }
   ],
   "source": [
    "correlation = df.corr()\n",
    "correlation_target = correlation[TARGET_FEATURE]\n",
    "correlation_target_sorted = correlation_target.sort_values(ascending=False)\n",
    "\n",
    "print(correlation_target_sorted)"
   ]
  }
 ],
 "metadata": {
  "kernelspec": {
   "display_name": "Python 3",
   "language": "python",
   "name": "python3"
  },
  "language_info": {
   "codemirror_mode": {
    "name": "ipython",
    "version": 3
   },
   "file_extension": ".py",
   "mimetype": "text/x-python",
   "name": "python",
   "nbconvert_exporter": "python",
   "pygments_lexer": "ipython3",
   "version": "3.11.8"
  }
 },
 "nbformat": 4,
 "nbformat_minor": 2
}
