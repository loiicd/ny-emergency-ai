{
 "cells": [
  {
   "cell_type": "code",
   "execution_count": 71,
   "metadata": {},
   "outputs": [],
   "source": [
    "import folium\n",
    "\n",
    "map = folium.Map(location=[40.71552394800378, -74.01878975440212], zoom_start=11, tiles='CartoDB positron')\n",
    "\n",
    "borough_layer = folium.FeatureGroup(name='Boroughs')\n",
    "score_layer = folium.FeatureGroup(name='Score Layer')"
   ]
  },
  {
   "cell_type": "code",
   "execution_count": 72,
   "metadata": {},
   "outputs": [
    {
     "data": {
      "text/html": [
       "<div>\n",
       "<style scoped>\n",
       "    .dataframe tbody tr th:only-of-type {\n",
       "        vertical-align: middle;\n",
       "    }\n",
       "\n",
       "    .dataframe tbody tr th {\n",
       "        vertical-align: top;\n",
       "    }\n",
       "\n",
       "    .dataframe thead th {\n",
       "        text-align: right;\n",
       "    }\n",
       "</style>\n",
       "<table border=\"1\" class=\"dataframe\">\n",
       "  <thead>\n",
       "    <tr style=\"text-align: right;\">\n",
       "      <th></th>\n",
       "      <th>Borough</th>\n",
       "      <th>Population</th>\n",
       "      <th>Area</th>\n",
       "      <th>Population Density</th>\n",
       "      <th>Firehouse Quantity</th>\n",
       "      <th>Firehouse Density (Population)</th>\n",
       "      <th>Firehouse Density (Area)</th>\n",
       "      <th>Population Density Transformed</th>\n",
       "      <th>Firehouse Density (Population) Transformed</th>\n",
       "      <th>Firehouse Density (Area) Transformed</th>\n",
       "      <th>Score</th>\n",
       "    </tr>\n",
       "  </thead>\n",
       "  <tbody>\n",
       "    <tr>\n",
       "      <th>0</th>\n",
       "      <td>Bronx</td>\n",
       "      <td>1446788</td>\n",
       "      <td>1.187175e+09</td>\n",
       "      <td>121.868156</td>\n",
       "      <td>34</td>\n",
       "      <td>2.350033</td>\n",
       "      <td>0.002864</td>\n",
       "      <td>0.404107</td>\n",
       "      <td>0.084234</td>\n",
       "      <td>0.258752</td>\n",
       "      <td>0.747093</td>\n",
       "    </tr>\n",
       "    <tr>\n",
       "      <th>1</th>\n",
       "      <td>Brooklyn</td>\n",
       "      <td>2648452</td>\n",
       "      <td>1.934138e+09</td>\n",
       "      <td>136.931889</td>\n",
       "      <td>66</td>\n",
       "      <td>2.492022</td>\n",
       "      <td>0.003412</td>\n",
       "      <td>0.470372</td>\n",
       "      <td>0.158306</td>\n",
       "      <td>0.345698</td>\n",
       "      <td>0.974375</td>\n",
       "    </tr>\n",
       "    <tr>\n",
       "      <th>2</th>\n",
       "      <td>Manhattan</td>\n",
       "      <td>1638281</td>\n",
       "      <td>6.366456e+08</td>\n",
       "      <td>257.330149</td>\n",
       "      <td>48</td>\n",
       "      <td>2.929900</td>\n",
       "      <td>0.007540</td>\n",
       "      <td>1.000000</td>\n",
       "      <td>0.386736</td>\n",
       "      <td>1.000000</td>\n",
       "      <td>2.386736</td>\n",
       "    </tr>\n",
       "    <tr>\n",
       "      <th>3</th>\n",
       "      <td>Queens</td>\n",
       "      <td>2330295</td>\n",
       "      <td>3.041419e+09</td>\n",
       "      <td>76.618689</td>\n",
       "      <td>51</td>\n",
       "      <td>2.188564</td>\n",
       "      <td>0.001677</td>\n",
       "      <td>0.205056</td>\n",
       "      <td>0.000000</td>\n",
       "      <td>0.070554</td>\n",
       "      <td>0.275610</td>\n",
       "    </tr>\n",
       "    <tr>\n",
       "      <th>4</th>\n",
       "      <td>Staten Island</td>\n",
       "      <td>487155</td>\n",
       "      <td>1.623621e+09</td>\n",
       "      <td>30.004236</td>\n",
       "      <td>20</td>\n",
       "      <td>4.105470</td>\n",
       "      <td>0.001232</td>\n",
       "      <td>0.000000</td>\n",
       "      <td>1.000000</td>\n",
       "      <td>0.000000</td>\n",
       "      <td>1.000000</td>\n",
       "    </tr>\n",
       "  </tbody>\n",
       "</table>\n",
       "</div>"
      ],
      "text/plain": [
       "         Borough  Population          Area  Population Density  \\\n",
       "0          Bronx     1446788  1.187175e+09          121.868156   \n",
       "1       Brooklyn     2648452  1.934138e+09          136.931889   \n",
       "2      Manhattan     1638281  6.366456e+08          257.330149   \n",
       "3         Queens     2330295  3.041419e+09           76.618689   \n",
       "4  Staten Island      487155  1.623621e+09           30.004236   \n",
       "\n",
       "   Firehouse Quantity  Firehouse Density (Population)  \\\n",
       "0                  34                        2.350033   \n",
       "1                  66                        2.492022   \n",
       "2                  48                        2.929900   \n",
       "3                  51                        2.188564   \n",
       "4                  20                        4.105470   \n",
       "\n",
       "   Firehouse Density (Area)  Population Density Transformed  \\\n",
       "0                  0.002864                        0.404107   \n",
       "1                  0.003412                        0.470372   \n",
       "2                  0.007540                        1.000000   \n",
       "3                  0.001677                        0.205056   \n",
       "4                  0.001232                        0.000000   \n",
       "\n",
       "   Firehouse Density (Population) Transformed  \\\n",
       "0                                    0.084234   \n",
       "1                                    0.158306   \n",
       "2                                    0.386736   \n",
       "3                                    0.000000   \n",
       "4                                    1.000000   \n",
       "\n",
       "   Firehouse Density (Area) Transformed     Score  \n",
       "0                              0.258752  0.747093  \n",
       "1                              0.345698  0.974375  \n",
       "2                              1.000000  2.386736  \n",
       "3                              0.070554  0.275610  \n",
       "4                              0.000000  1.000000  "
      ]
     },
     "execution_count": 72,
     "metadata": {},
     "output_type": "execute_result"
    }
   ],
   "source": [
    "import pandas as pd\n",
    "\n",
    "df = pd.read_csv('/Users/loic.doerr/dev/ny-emergency-ai/borough_data.csv')\n",
    "\n",
    "df.head()"
   ]
  },
  {
   "cell_type": "code",
   "execution_count": 73,
   "metadata": {},
   "outputs": [],
   "source": [
    "import json\n",
    "\n",
    "with open('./data/geo-data/boroughs.geojson') as rawData:\n",
    "  boroughs_boundaries_geo = json.load(rawData)"
   ]
  },
  {
   "cell_type": "code",
   "execution_count": 74,
   "metadata": {},
   "outputs": [
    {
     "data": {
      "text/plain": [
       "<folium.features.GeoJson at 0x17264b290>"
      ]
     },
     "execution_count": 74,
     "metadata": {},
     "output_type": "execute_result"
    }
   ],
   "source": [
    "folium.GeoJson(\n",
    "  boroughs_boundaries_geo,\n",
    "  style_function=lambda feature: {\n",
    "    'fillColor': 'green' if feature['properties']['boro_name'] == 'Manhattan' else 'blue' if feature['properties']['boro_name'] == 'Brooklyn' else 'red' if feature['properties']['boro_name'] == 'Bronx' else 'orange' if feature['properties']['boro_name'] == 'Queens' else 'purple',\n",
    "    'color': 'black',\n",
    "    'weight': 2,\n",
    "    'fillOpacity': 0.2,\n",
    "  }\n",
    ").add_to(borough_layer)"
   ]
  },
  {
   "cell_type": "code",
   "execution_count": 75,
   "metadata": {},
   "outputs": [
    {
     "data": {
      "text/plain": [
       "<folium.features.GeoJson at 0x16a0d9950>"
      ]
     },
     "execution_count": 75,
     "metadata": {},
     "output_type": "execute_result"
    }
   ],
   "source": [
    "borough_population_density = dict(zip(df['Borough'], df['Score']))\n",
    "\n",
    "population_density_values = list(borough_population_density.values())\n",
    "\n",
    "max_density = max(population_density_values)\n",
    "\n",
    "def normalize(value, min_value, max_value):\n",
    "  return (value - min_value) / (max_value - min_value)\n",
    "\n",
    "folium.GeoJson(\n",
    "  boroughs_boundaries_geo,\n",
    "  style_function=lambda feature: {\n",
    "    'fillColor': 'red',\n",
    "    'color': 'black',\n",
    "    'weight': 2,\n",
    "    'fillOpacity': normalize(\n",
    "      borough_population_density.get(feature['properties']['boro_name'], 0), \n",
    "      0, \n",
    "      max_density\n",
    "    ),\n",
    "  }\n",
    ").add_to(score_layer)"
   ]
  },
  {
   "cell_type": "code",
   "execution_count": 76,
   "metadata": {},
   "outputs": [],
   "source": [
    "map.add_child(borough_layer)\n",
    "map.add_child(score_layer)\n",
    "\n",
    "folium.LayerControl().add_to(map)\n",
    "\n",
    "map.save('./maps/hallo.html')"
   ]
  }
 ],
 "metadata": {
  "kernelspec": {
   "display_name": "Python 3",
   "language": "python",
   "name": "python3"
  },
  "language_info": {
   "codemirror_mode": {
    "name": "ipython",
    "version": 3
   },
   "file_extension": ".py",
   "mimetype": "text/x-python",
   "name": "python",
   "nbconvert_exporter": "python",
   "pygments_lexer": "ipython3",
   "version": "3.11.8"
  }
 },
 "nbformat": 4,
 "nbformat_minor": 2
}
